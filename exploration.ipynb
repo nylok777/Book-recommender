{
 "cells": [
  {
   "cell_type": "markdown",
   "id": "f814fa0e",
   "metadata": {},
   "source": [
    "Merging original books.csv and prepocessed data (didn't notice there was a preprocessed csv)"
   ]
  },
  {
   "cell_type": "code",
   "execution_count": 29,
   "id": "14a060ba",
   "metadata": {},
   "outputs": [
    {
     "name": "stdout",
     "output_type": "stream",
     "text": [
      "<class 'pandas.core.frame.DataFrame'>\n",
      "RangeIndex: 271379 entries, 0 to 271378\n",
      "Data columns (total 8 columns):\n",
      " #   Column               Non-Null Count   Dtype \n",
      "---  ------               --------------   ----- \n",
      " 0   ISBN                 271379 non-null  object\n",
      " 1   Book-Title           271379 non-null  object\n",
      " 2   Book-Author          271377 non-null  object\n",
      " 3   Year-Of-Publication  271379 non-null  int64 \n",
      " 4   Publisher            271377 non-null  object\n",
      " 5   Image-URL-S          271379 non-null  object\n",
      " 6   Image-URL-M          271379 non-null  object\n",
      " 7   Image-URL-L          271379 non-null  object\n",
      "dtypes: int64(1), object(7)\n",
      "memory usage: 16.6+ MB\n"
     ]
    }
   ],
   "source": [
    "import pandas as pd\n",
    "import numpy as np\n",
    "df_books = pd.read_csv(filepath_or_buffer=\"Book reviews/BX_Books.csv\", encoding=\"cp1252\", sep=';')\n",
    "df_books.info()\n",
    "df_books = df_books.drop(columns=['Image-URL-S', 'Image-URL-M', 'Image-URL-L'])\n",
    "df_books = df_books.dropna()"
   ]
  },
  {
   "cell_type": "code",
   "execution_count": 30,
   "id": "62f23c36",
   "metadata": {},
   "outputs": [
    {
     "name": "stdout",
     "output_type": "stream",
     "text": [
      "<class 'pandas.core.frame.DataFrame'>\n",
      "RangeIndex: 1031175 entries, 0 to 1031174\n",
      "Data columns (total 4 columns):\n",
      " #   Column    Non-Null Count    Dtype \n",
      "---  ------    --------------    ----- \n",
      " 0   isbn      1031175 non-null  object\n",
      " 1   Summary   1031175 non-null  object\n",
      " 2   Language  1031175 non-null  object\n",
      " 3   Category  1031175 non-null  object\n",
      "dtypes: object(4)\n",
      "memory usage: 31.5+ MB\n"
     ]
    }
   ],
   "source": [
    "df_pre = pd.read_csv(filepath_or_buffer=\"Book reviews/Preprocessed_data.csv\", encoding='utf-8', usecols=[4, 13, 14, 15])\n",
    "df_pre.info()\n",
    "df_pre.rename(columns={\"isbn\": \"ISBN\"}, inplace=True)\n",
    "df_books = df_books.merge(df_pre, on='ISBN').drop_duplicates()\n",
    "df_books.to_csv(\"BX-Books.csv\", index=False, sep=';')"
   ]
  },
  {
   "cell_type": "markdown",
   "id": "c4e50777",
   "metadata": {},
   "source": [
    "Using new books.csv"
   ]
  },
  {
   "cell_type": "code",
   "execution_count": 31,
   "id": "a793c990",
   "metadata": {},
   "outputs": [],
   "source": [
    "import numpy as np\n",
    "import pandas as pd"
   ]
  },
  {
   "cell_type": "code",
   "execution_count": 32,
   "id": "e7048dee",
   "metadata": {},
   "outputs": [],
   "source": [
    "df_books = pd.read_csv(\"Book reviews/BX-Books.csv\", sep=';')"
   ]
  },
  {
   "cell_type": "code",
   "execution_count": 33,
   "id": "47503414",
   "metadata": {},
   "outputs": [],
   "source": [
    "df_users = pd.read_csv(filepath_or_buffer=\"Book reviews/BX-Users.csv\", encoding=\"cp1252\", sep=';')"
   ]
  },
  {
   "cell_type": "code",
   "execution_count": 34,
   "id": "77199a0a",
   "metadata": {},
   "outputs": [
    {
     "name": "stdout",
     "output_type": "stream",
     "text": [
      "<class 'pandas.core.frame.DataFrame'>\n",
      "RangeIndex: 278858 entries, 0 to 278857\n",
      "Data columns (total 3 columns):\n",
      " #   Column    Non-Null Count   Dtype  \n",
      "---  ------    --------------   -----  \n",
      " 0   User-ID   278858 non-null  int64  \n",
      " 1   Location  278858 non-null  object \n",
      " 2   Age       168096 non-null  float64\n",
      "dtypes: float64(1), int64(1), object(1)\n",
      "memory usage: 6.4+ MB\n"
     ]
    }
   ],
   "source": [
    "df_users.info()"
   ]
  },
  {
   "cell_type": "code",
   "execution_count": 35,
   "id": "376a8e1d",
   "metadata": {},
   "outputs": [
    {
     "data": {
      "text/html": [
       "<div>\n",
       "<style scoped>\n",
       "    .dataframe tbody tr th:only-of-type {\n",
       "        vertical-align: middle;\n",
       "    }\n",
       "\n",
       "    .dataframe tbody tr th {\n",
       "        vertical-align: top;\n",
       "    }\n",
       "\n",
       "    .dataframe thead th {\n",
       "        text-align: right;\n",
       "    }\n",
       "</style>\n",
       "<table border=\"1\" class=\"dataframe\">\n",
       "  <thead>\n",
       "    <tr style=\"text-align: right;\">\n",
       "      <th></th>\n",
       "      <th>User-ID</th>\n",
       "      <th>Age</th>\n",
       "    </tr>\n",
       "  </thead>\n",
       "  <tbody>\n",
       "    <tr>\n",
       "      <th>count</th>\n",
       "      <td>278858.00000</td>\n",
       "      <td>168096.000000</td>\n",
       "    </tr>\n",
       "    <tr>\n",
       "      <th>mean</th>\n",
       "      <td>139429.50000</td>\n",
       "      <td>34.751434</td>\n",
       "    </tr>\n",
       "    <tr>\n",
       "      <th>std</th>\n",
       "      <td>80499.51502</td>\n",
       "      <td>14.428097</td>\n",
       "    </tr>\n",
       "    <tr>\n",
       "      <th>min</th>\n",
       "      <td>1.00000</td>\n",
       "      <td>0.000000</td>\n",
       "    </tr>\n",
       "    <tr>\n",
       "      <th>25%</th>\n",
       "      <td>69715.25000</td>\n",
       "      <td>24.000000</td>\n",
       "    </tr>\n",
       "    <tr>\n",
       "      <th>50%</th>\n",
       "      <td>139429.50000</td>\n",
       "      <td>32.000000</td>\n",
       "    </tr>\n",
       "    <tr>\n",
       "      <th>75%</th>\n",
       "      <td>209143.75000</td>\n",
       "      <td>44.000000</td>\n",
       "    </tr>\n",
       "    <tr>\n",
       "      <th>max</th>\n",
       "      <td>278858.00000</td>\n",
       "      <td>244.000000</td>\n",
       "    </tr>\n",
       "  </tbody>\n",
       "</table>\n",
       "</div>"
      ],
      "text/plain": [
       "            User-ID            Age\n",
       "count  278858.00000  168096.000000\n",
       "mean   139429.50000      34.751434\n",
       "std     80499.51502      14.428097\n",
       "min         1.00000       0.000000\n",
       "25%     69715.25000      24.000000\n",
       "50%    139429.50000      32.000000\n",
       "75%    209143.75000      44.000000\n",
       "max    278858.00000     244.000000"
      ]
     },
     "execution_count": 35,
     "metadata": {},
     "output_type": "execute_result"
    }
   ],
   "source": [
    "df_users.describe()"
   ]
  },
  {
   "cell_type": "code",
   "execution_count": 36,
   "id": "9f96b1d1",
   "metadata": {},
   "outputs": [],
   "source": [
    "df_users['Age'] = df_users['Age'].map(lambda x: x if x is not pd.NA else np.random.normal(loc=34.75, scale=14.43))"
   ]
  },
  {
   "cell_type": "code",
   "execution_count": 37,
   "id": "5d3d4e1a",
   "metadata": {},
   "outputs": [],
   "source": [
    "df_users['Age'] = df_users['Age'].apply(lambda x: 100 if x > 100 else x)"
   ]
  },
  {
   "cell_type": "code",
   "execution_count": 38,
   "id": "4f1907c9",
   "metadata": {},
   "outputs": [
    {
     "data": {
      "image/png": "[encoded data removed]",
      "text/plain": [
       "<Figure size 640x480 with 1 Axes>"
      ]
     },
     "metadata": {},
     "output_type": "display_data"
    }
   ],
   "source": [
    "from matplotlib import pyplot as plt\n",
    "\n",
    "fig, ax = plt.subplots()\n",
    "\n",
    "ax.hist(df_users['Age'])\n",
    "\n",
    "plt.show()"
   ]
  },
  {
   "cell_type": "code",
   "execution_count": 39,
   "id": "d88ee7a6",
   "metadata": {},
   "outputs": [],
   "source": [
    "df_ratings = pd.read_csv(filepath_or_buffer=\"Book reviews/BX-Book-Ratings.csv\", encoding=\"cp1252\", sep=';')"
   ]
  },
  {
   "cell_type": "code",
   "execution_count": 40,
   "id": "370e4642",
   "metadata": {},
   "outputs": [
    {
     "name": "stdout",
     "output_type": "stream",
     "text": [
      "<class 'pandas.core.frame.DataFrame'>\n",
      "RangeIndex: 1149780 entries, 0 to 1149779\n",
      "Data columns (total 3 columns):\n",
      " #   Column       Non-Null Count    Dtype \n",
      "---  ------       --------------    ----- \n",
      " 0   User-ID      1149780 non-null  int64 \n",
      " 1   ISBN         1149780 non-null  object\n",
      " 2   Book-Rating  1149780 non-null  int64 \n",
      "dtypes: int64(2), object(1)\n",
      "memory usage: 26.3+ MB\n"
     ]
    },
    {
     "data": {
      "text/plain": [
       "None"
      ]
     },
     "metadata": {},
     "output_type": "display_data"
    },
    {
     "data": {
      "text/plain": [
       "User-ID  ISBN        Book-Rating\n",
       "2        0195153448  0              1\n",
       "187762   0786927089  10             1\n",
       "         0870448129  10             1\n",
       "         0836218620  10             1\n",
       "         0836218515  10             1\n",
       "                                   ..\n",
       "94923    0671643983  0              1\n",
       "         0671658131  0              1\n",
       "         0671658166  0              1\n",
       "         0671661302  0              1\n",
       "278854   0553579606  8              1\n",
       "Name: count, Length: 1149780, dtype: int64"
      ]
     },
     "metadata": {},
     "output_type": "display_data"
    }
   ],
   "source": [
    "display(df_ratings.info())\n",
    "display(df_ratings.value_counts())"
   ]
  },
  {
   "cell_type": "code",
   "execution_count": 41,
   "id": "008d01c1",
   "metadata": {},
   "outputs": [
    {
     "data": {
      "text/plain": [
       "Index(['ISBN', 'Book-Title', 'Book-Author', 'Year-Of-Publication', 'Publisher',\n",
       "       'Summary', 'Language', 'Category'],\n",
       "      dtype='object')"
      ]
     },
     "metadata": {},
     "output_type": "display_data"
    }
   ],
   "source": [
    "display(df_books.columns)"
   ]
  },
  {
   "cell_type": "code",
   "execution_count": 42,
   "id": "22cb27a7",
   "metadata": {},
   "outputs": [
    {
     "data": {
      "text/plain": [
       "array([\"carlod'este\", 'e.j.w.barber', 'ginabarikolata', 'markp.o.morford',\n",
       "       'richardbrucewright'], dtype=object)"
      ]
     },
     "metadata": {},
     "output_type": "display_data"
    },
    {
     "data": {
      "text/plain": [
       "0       MarkP.O.Morford\n",
       "1    RichardBruceWright\n",
       "2           CarloD'Este\n",
       "3        GinaBariKolata\n",
       "4          E.J.W.Barber\n",
       "Name: Book-Author, dtype: object"
      ]
     },
     "metadata": {},
     "output_type": "display_data"
    },
    {
     "data": {
      "text/plain": [
       "<Compressed Sparse Row sparse matrix of dtype 'float64'\n",
       "\twith 5 stored elements and shape (5, 5)>"
      ]
     },
     "metadata": {},
     "output_type": "display_data"
    }
   ],
   "source": [
    "from sklearn.feature_extraction.text import TfidfVectorizer\n",
    "\n",
    "vectorizer = TfidfVectorizer(token_pattern=r\"[^ ]+\")\n",
    "text_vectors = vectorizer.fit_transform(df_books['Book-Author'].iloc[0:5].map(lambda x: str(x).replace(' ', '')))\n",
    "\n",
    "display(vectorizer.get_feature_names_out())\n",
    "display(df_books['Book-Author'].iloc[0:5].map(lambda x: str(x).replace(' ', '')))\n",
    "display(text_vectors)"
   ]
  }
 ],
 "metadata": {
  "kernelspec": {
   "display_name": "ML_practice",
   "language": "python",
   "name": "python3"
  },
  "language_info": {
   "codemirror_mode": {
    "name": "ipython",
    "version": 3
   },
   "file_extension": ".py",
   "mimetype": "text/x-python",
   "name": "python",
   "nbconvert_exporter": "python",
   "pygments_lexer": "ipython3",
   "version": "3.12.10"
  }
 },
 "nbformat": 4,
 "nbformat_minor": 5
}
